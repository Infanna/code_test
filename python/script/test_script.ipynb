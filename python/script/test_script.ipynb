{
 "cells": [
  {
   "cell_type": "code",
   "execution_count": 144,
   "metadata": {},
   "outputs": [
    {
     "name": "stdout",
     "output_type": "stream",
     "text": [
      "File '/Users/few/projects/code_test/python/script/data/file/mychannel-sale-cart.txt' removed successfully.\n",
      "File '/Users/few/projects/code_test/python/script/data/file/mychannel-sale-store.txt' removed successfully.\n"
     ]
    }
   ],
   "source": [
    "import os\n",
    "\n",
    "path = \"/Users/few/projects/odds/ais\"\n",
    "owner = \"Infanna\"\n",
    "git_command = f\"git --no-pager log --author='{owner}' --pretty=format:'%h - %an, %ar, %aD : %s' --since='2024-01-01' --until='2024-01-31'\"\n",
    "repo = [\"mychannel-sale-cart\", \"mychannel-sale-store\"]\n",
    "for r in repo:\n",
    "    file_path = f\"/Users/few/projects/code_test/python/script/data/file/{r}.txt\"\n",
    "    if os.path.exists(file_path):\n",
    "        os.remove(file_path)\n",
    "        print(f\"File '{file_path}' removed successfully.\")\n",
    "    else:\n",
    "        print(f\"File '{file_path}' does not exist.\")\n",
    "\n",
    "    textFile = \"/Users/few/projects/code_test/python/script/data/file/{}.txt\".format(r)\n",
    "    os.system(f\"cd {path}/{r} && {git_command} >> {textFile}\")"
   ]
  },
  {
   "cell_type": "code",
   "execution_count": 145,
   "metadata": {},
   "outputs": [],
   "source": [
    "import pandas as pd\n",
    "\n",
    "for r in repo:\n",
    "    df = pd.read_csv(\n",
    "        f\"/Users/few/projects/code_test/python/script/data/file/{r}.txt\",\n",
    "        sep=\", | - | : \",\n",
    "        engine=\"python\",\n",
    "        names=[\"commit_code\", \"owner\", \"history\", \"day\", \"timestamp\", \"commit_message\"],\n",
    "        dtype={\n",
    "            \"commit_code\": \"string\",\n",
    "            \"owner\": \"string\",\n",
    "            \"history\": \"string\",\n",
    "            \"day\": \"string\",\n",
    "            \"timestamp\": \"string\",\n",
    "            \"commit_message\": \"string\",\n",
    "        },\n",
    "    )\n",
    "\n",
    "    df[\"date_time\"] = pd.to_datetime(df[\"timestamp\"])\n",
    "    df.sort_values(by=\"date_time\", ascending=True)\n",
    "    df.to_csv(\n",
    "        f\"/Users/few/projects/code_test/python/script/data/ais_log/{r}.csv\", index=False\n",
    "    )"
   ]
  },
  {
   "cell_type": "code",
   "execution_count": null,
   "metadata": {},
   "outputs": [],
   "source": []
  }
 ],
 "metadata": {
  "kernelspec": {
   "display_name": "Python 3",
   "language": "python",
   "name": "python3"
  },
  "language_info": {
   "codemirror_mode": {
    "name": "ipython",
    "version": 3
   },
   "file_extension": ".py",
   "mimetype": "text/x-python",
   "name": "python",
   "nbconvert_exporter": "python",
   "pygments_lexer": "ipython3",
   "version": "3.11.3"
  },
  "orig_nbformat": 4
 },
 "nbformat": 4,
 "nbformat_minor": 2
}
